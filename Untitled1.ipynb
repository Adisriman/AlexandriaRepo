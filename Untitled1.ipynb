{
  "nbformat": 4,
  "nbformat_minor": 0,
  "metadata": {
    "colab": {
      "name": "Untitled1.ipynb",
      "provenance": [],
      "collapsed_sections": [],
      "authorship_tag": "ABX9TyOEV19esDNPL2FdPdRIR7v5",
      "include_colab_link": true
    },
    "kernelspec": {
      "name": "python3",
      "display_name": "Python 3"
    }
  },
  "cells": [
    {
      "cell_type": "markdown",
      "metadata": {
        "id": "view-in-github",
        "colab_type": "text"
      },
      "source": [
        "<a href=\"https://colab.research.google.com/github/Adisriman/AlexandriaRepo/blob/master/Untitled1.ipynb\" target=\"_parent\"><img src=\"https://colab.research.google.com/assets/colab-badge.svg\" alt=\"Open In Colab\"/></a>"
      ]
    },
    {
      "cell_type": "code",
      "metadata": {
        "id": "TegcYuGfh_Ue",
        "colab_type": "code",
        "colab": {
          "base_uri": "https://localhost:8080/",
          "height": 68
        },
        "outputId": "0acae8a3-e6c4-4d28-f64f-6601698c1acc"
      },
      "source": [
        "import pandas as pd\n",
        "import numpy as np\n",
        "import math\n",
        "\n",
        "nugget=np.array([4,5,3,3,2])\n",
        "drumstic=np.array([5,5,4,3,4])\n",
        "hotdog=np.array([1,4,1,3,5])\n",
        "log_frequency_array=[]\n",
        "val_after_deviding_len_norm=[]\n",
        "\n",
        "test=[2,3]\n",
        "\n",
        "\n",
        "def cal_log_frequency(valArray):\n",
        "  logVal=0\n",
        "  incrementVal=0\n",
        "  for x in valArray:\n",
        "    logVal=1+math.log(x)\n",
        "    log_frequency_array.insert(incrementVal,logVal)\n",
        "  return log_frequency_array\n",
        "\n",
        "\n",
        "frequencyArrayfornugget=cal_log_frequency(nugget)\n",
        "frequencyArrayfordrumstic=cal_log_frequency(drumstic)\n",
        "frequencyArrayforhotdog=cal_log_frequency(hotdog)\n",
        "\n",
        "#length normalization\n",
        "\n",
        "def cal_length_normalization(logFrequencyArray):\n",
        "  powAddVal=0\n",
        "  for x in logFrequencyArray:\n",
        "   powAddVal=powAddVal+pow(x,2)\n",
        "  \n",
        "  devidingVal=pow(powAddVal,0.5)\n",
        "  return devidingVal\n",
        "  #print(devidingVal)       #print the length normalization value \n",
        "\n",
        "lengthNormalizationForNugget=cal_length_normalization(frequencyArrayfornugget)\n",
        "\n",
        "\n",
        "def val_array_by_deviding_Length_normalization(frequencyArray,val):\n",
        "  incrementVal=0\n",
        "  for x in frequencyArray:\n",
        "    val_after_deviding_len_norm.insert(incrementVal,x/val)\n",
        "  return val_after_deviding_len_norm\n",
        "\n",
        "  # print(val_after_deviding_len_norm)       \n",
        "\n",
        "# val_array_by_deviding_Length_normalization(frequencyArrayfornugget,lengthNormalizationForNugget)\n",
        "array_for_devidingVal_for_nugget=val_array_by_deviding_Length_normalization(frequencyArrayfornugget,lengthNormalizationForNugget)\n",
        "\n",
        "def catagorized_array(wholeArray):\n",
        "  nuggetArray=wholeArray[0:5]\n",
        "  drumsticArray=wholeArray[5:10]\n",
        "  hotdogArray=wholeArray[10:15]\n",
        "\n",
        "  combined\n",
        "\n",
        "  print(nuggetArray)\n",
        "  print(drumsticArray)\n",
        "  print(hotdogArray)\n",
        "\n",
        "catagorized_array(array_for_devidingVal_for_nugget)\n",
        "\n",
        "\n",
        "\n",
        "   "
      ],
      "execution_count": 77,
      "outputs": [
        {
          "output_type": "stream",
          "text": [
            "[0.2802604868685793, 0.3064677818912918, 0.2464734072013164, 0.2464734072013164, 0.1988531930072528]\n",
            "[0.3064677818912918, 0.3064677818912918, 0.2802604868685793, 0.2464734072013164, 0.2802604868685793]\n",
            "[0.11744589914592629, 0.2802604868685793, 0.11744589914592629, 0.2464734072013164, 0.3064677818912918]\n"
          ],
          "name": "stdout"
        }
      ]
    }
  ]
}