{
  "nbformat": 4,
  "nbformat_minor": 0,
  "metadata": {
    "colab": {
      "name": "Untitled1.ipynb",
      "provenance": [],
      "collapsed_sections": [],
      "authorship_tag": "ABX9TyPWOIsqrsu1mLeIW+jRez7H",
      "include_colab_link": true
    },
    "kernelspec": {
      "name": "python3",
      "display_name": "Python 3"
    }
  },
  "cells": [
    {
      "cell_type": "markdown",
      "metadata": {
        "id": "view-in-github",
        "colab_type": "text"
      },
      "source": [
        "<a href=\"https://colab.research.google.com/github/Adisriman/AlexandriaRepo/blob/master/vectorSpaceModel.ipynb\" target=\"_parent\"><img src=\"https://colab.research.google.com/assets/colab-badge.svg\" alt=\"Open In Colab\"/></a>"
      ]
    },
    {
      "cell_type": "code",
      "metadata": {
        "id": "TegcYuGfh_Ue",
        "colab_type": "code",
        "colab": {
          "base_uri": "https://localhost:8080/",
          "height": 102
        },
        "outputId": "7b1e53ce-f7bb-4baf-b7c6-2d3ec9f830cf"
      },
      "source": [
        "import pandas as pd\n",
        "import numpy as np\n",
        "import math\n",
        "\n",
        "nugget=np.array([4,5,3,3,2])\n",
        "drumstic=np.array([5,5,4,3,4])\n",
        "hotdog=np.array([1,4,1,3,5])\n",
        "log_frequency_array=[]\n",
        "val_after_deviding_len_norm=[]\n",
        "\n",
        "test=[2,3]\n",
        "\n",
        "\n",
        "def cal_log_frequency(valArray):\n",
        "  logVal=0\n",
        "  incrementVal=0\n",
        "  for x in valArray:\n",
        "    logVal=1+math.log(x)\n",
        "    log_frequency_array.insert(incrementVal,logVal)\n",
        "  return log_frequency_array\n",
        "\n",
        "\n",
        "frequencyArrayfornugget=cal_log_frequency(nugget)\n",
        "\n",
        "#length normalization\n",
        "\n",
        "def cal_length_normalization(logFrequencyArray):\n",
        "  powAddVal=0\n",
        "  for x in logFrequencyArray:\n",
        "   powAddVal=powAddVal+pow(x,2)\n",
        "  \n",
        "  devidingVal=pow(powAddVal,0.5)\n",
        "  return devidingVal\n",
        "  #print(devidingVal)       #print the length normalization value \n",
        "\n",
        "lengthNormalization=cal_length_normalization(frequencyArrayfornugget)\n",
        "\n",
        "\n",
        "def val_array_by_deviding_Length_normalization(frequencyArray,val):\n",
        "  incrementVal=0\n",
        "  for x in frequencyArray:\n",
        "    val_after_deviding_len_norm.insert(incrementVal,x/val)\n",
        "  \n",
        "  return val_after_deviding_len_norm\n",
        "  #print(val_after_deviding_len_norm)       \n",
        "\n",
        "\n",
        "val_array_by_deviding_Length_normalization(frequencyArrayfornugget,lengthNormalization)\n",
        "   "
      ],
      "execution_count": 57,
      "outputs": [
        {
          "output_type": "execute_result",
          "data": {
            "text/plain": [
              "[0.4852973142805182,\n",
              " 0.530677703186513,\n",
              " 0.42679181747249534,\n",
              " 0.42679181747249534,\n",
              " 0.34433295103700357]"
            ]
          },
          "metadata": {
            "tags": []
          },
          "execution_count": 57
        }
      ]
    }
  ]
}